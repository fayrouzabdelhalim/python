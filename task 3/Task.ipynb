{
 "cells": [
  {
   "cell_type": "markdown",
   "metadata": {},
   "source": [
    "## Project: Querying and Filtering Pokemon data\n",
    "\n",
    "This project will help you practice your pandas querying and filtering skills. Let's begin!\n",
    "\n",
    "![Pokemon](output0.png)"
   ]
  },
  {
   "cell_type": "markdown",
   "metadata": {},
   "source": [
    "## Setup\n",
    "\n",
    "There isn't much to do here, we'll provide the required imports and the read the pokemon CSV we'll be working with."
   ]
  },
  {
   "cell_type": "code",
   "execution_count": 5,
   "metadata": {},
   "outputs": [],
   "source": [
    "import numpy as np\n",
    "import pandas as pd\n",
    "\n",
    "import matplotlib.pyplot as plt\n",
    "import seaborn as sns"
   ]
  },
  {
   "cell_type": "code",
   "execution_count": 7,
   "metadata": {},
   "outputs": [],
   "source": [
    "df = pd.read_csv(\"pokemon.csv\")"
   ]
  },
  {
   "cell_type": "code",
   "execution_count": 9,
   "metadata": {},
   "outputs": [
    {
     "data": {
      "text/html": [
       "<div>\n",
       "<style scoped>\n",
       "    .dataframe tbody tr th:only-of-type {\n",
       "        vertical-align: middle;\n",
       "    }\n",
       "\n",
       "    .dataframe tbody tr th {\n",
       "        vertical-align: top;\n",
       "    }\n",
       "\n",
       "    .dataframe thead th {\n",
       "        text-align: right;\n",
       "    }\n",
       "</style>\n",
       "<table border=\"1\" class=\"dataframe\">\n",
       "  <thead>\n",
       "    <tr style=\"text-align: right;\">\n",
       "      <th></th>\n",
       "      <th>#</th>\n",
       "      <th>Name</th>\n",
       "      <th>Type 1</th>\n",
       "      <th>Type 2</th>\n",
       "      <th>Total</th>\n",
       "      <th>HP</th>\n",
       "      <th>Attack</th>\n",
       "      <th>Defense</th>\n",
       "      <th>Sp. Atk</th>\n",
       "      <th>Sp. Def</th>\n",
       "      <th>Speed</th>\n",
       "      <th>Generation</th>\n",
       "      <th>Legendary</th>\n",
       "    </tr>\n",
       "  </thead>\n",
       "  <tbody>\n",
       "    <tr>\n",
       "      <th>0</th>\n",
       "      <td>1</td>\n",
       "      <td>Bulbasaur</td>\n",
       "      <td>Grass</td>\n",
       "      <td>Poison</td>\n",
       "      <td>318</td>\n",
       "      <td>45</td>\n",
       "      <td>49</td>\n",
       "      <td>49</td>\n",
       "      <td>65</td>\n",
       "      <td>65</td>\n",
       "      <td>45</td>\n",
       "      <td>1</td>\n",
       "      <td>False</td>\n",
       "    </tr>\n",
       "    <tr>\n",
       "      <th>1</th>\n",
       "      <td>2</td>\n",
       "      <td>Ivysaur</td>\n",
       "      <td>Grass</td>\n",
       "      <td>Poison</td>\n",
       "      <td>405</td>\n",
       "      <td>60</td>\n",
       "      <td>62</td>\n",
       "      <td>63</td>\n",
       "      <td>80</td>\n",
       "      <td>80</td>\n",
       "      <td>60</td>\n",
       "      <td>1</td>\n",
       "      <td>False</td>\n",
       "    </tr>\n",
       "    <tr>\n",
       "      <th>2</th>\n",
       "      <td>3</td>\n",
       "      <td>Venusaur</td>\n",
       "      <td>Grass</td>\n",
       "      <td>Poison</td>\n",
       "      <td>525</td>\n",
       "      <td>80</td>\n",
       "      <td>82</td>\n",
       "      <td>83</td>\n",
       "      <td>100</td>\n",
       "      <td>100</td>\n",
       "      <td>80</td>\n",
       "      <td>1</td>\n",
       "      <td>False</td>\n",
       "    </tr>\n",
       "    <tr>\n",
       "      <th>3</th>\n",
       "      <td>3</td>\n",
       "      <td>VenusaurMega Venusaur</td>\n",
       "      <td>Grass</td>\n",
       "      <td>Poison</td>\n",
       "      <td>625</td>\n",
       "      <td>80</td>\n",
       "      <td>100</td>\n",
       "      <td>123</td>\n",
       "      <td>122</td>\n",
       "      <td>120</td>\n",
       "      <td>80</td>\n",
       "      <td>1</td>\n",
       "      <td>False</td>\n",
       "    </tr>\n",
       "    <tr>\n",
       "      <th>4</th>\n",
       "      <td>4</td>\n",
       "      <td>Charmander</td>\n",
       "      <td>Fire</td>\n",
       "      <td>NaN</td>\n",
       "      <td>309</td>\n",
       "      <td>39</td>\n",
       "      <td>52</td>\n",
       "      <td>43</td>\n",
       "      <td>60</td>\n",
       "      <td>50</td>\n",
       "      <td>65</td>\n",
       "      <td>1</td>\n",
       "      <td>False</td>\n",
       "    </tr>\n",
       "  </tbody>\n",
       "</table>\n",
       "</div>"
      ],
      "text/plain": [
       "   #                   Name Type 1  Type 2  Total  HP  Attack  Defense  \\\n",
       "0  1              Bulbasaur  Grass  Poison    318  45      49       49   \n",
       "1  2                Ivysaur  Grass  Poison    405  60      62       63   \n",
       "2  3               Venusaur  Grass  Poison    525  80      82       83   \n",
       "3  3  VenusaurMega Venusaur  Grass  Poison    625  80     100      123   \n",
       "4  4             Charmander   Fire     NaN    309  39      52       43   \n",
       "\n",
       "   Sp. Atk  Sp. Def  Speed  Generation  Legendary  \n",
       "0       65       65     45           1      False  \n",
       "1       80       80     60           1      False  \n",
       "2      100      100     80           1      False  \n",
       "3      122      120     80           1      False  \n",
       "4       60       50     65           1      False  "
      ]
     },
     "execution_count": 9,
     "metadata": {},
     "output_type": "execute_result"
    }
   ],
   "source": [
    "df.head()"
   ]
  },
  {
   "cell_type": "code",
   "execution_count": 11,
   "metadata": {},
   "outputs": [
    {
     "name": "stdout",
     "output_type": "stream",
     "text": [
      "<class 'pandas.core.frame.DataFrame'>\n",
      "RangeIndex: 800 entries, 0 to 799\n",
      "Data columns (total 13 columns):\n",
      " #   Column      Non-Null Count  Dtype \n",
      "---  ------      --------------  ----- \n",
      " 0   #           800 non-null    int64 \n",
      " 1   Name        800 non-null    object\n",
      " 2   Type 1      800 non-null    object\n",
      " 3   Type 2      414 non-null    object\n",
      " 4   Total       800 non-null    int64 \n",
      " 5   HP          800 non-null    int64 \n",
      " 6   Attack      800 non-null    int64 \n",
      " 7   Defense     800 non-null    int64 \n",
      " 8   Sp. Atk     800 non-null    int64 \n",
      " 9   Sp. Def     800 non-null    int64 \n",
      " 10  Speed       800 non-null    int64 \n",
      " 11  Generation  800 non-null    int64 \n",
      " 12  Legendary   800 non-null    bool  \n",
      "dtypes: bool(1), int64(9), object(3)\n",
      "memory usage: 75.9+ KB\n"
     ]
    }
   ],
   "source": [
    "df.info()"
   ]
  },
  {
   "cell_type": "markdown",
   "metadata": {},
   "source": [
    "##### 0. Can you get the value counts of `Type 1` column?"
   ]
  },
  {
   "cell_type": "code",
   "execution_count": 13,
   "metadata": {},
   "outputs": [
    {
     "data": {
      "text/plain": [
       "Type 1\n",
       "Water       112\n",
       "Normal       98\n",
       "Grass        70\n",
       "Bug          69\n",
       "Psychic      57\n",
       "Fire         52\n",
       "Electric     44\n",
       "Rock         44\n",
       "Dragon       32\n",
       "Ground       32\n",
       "Ghost        32\n",
       "Dark         31\n",
       "Poison       28\n",
       "Steel        27\n",
       "Fighting     27\n",
       "Ice          24\n",
       "Fairy        17\n",
       "Flying        4\n",
       "Name: count, dtype: int64"
      ]
     },
     "execution_count": 13,
     "metadata": {},
     "output_type": "execute_result"
    }
   ],
   "source": [
    "df['Type 1'].value_counts()\n"
   ]
  },
  {
   "cell_type": "markdown",
   "metadata": {},
   "source": [
    "##### 1. How many Pokemons exist with an `Attack` value greater than 150?"
   ]
  },
  {
   "cell_type": "markdown",
   "metadata": {},
   "source": [
    "Doing a little bit of visual exploration, we can have a sense of the most \"powerful\" pokemons (defined by their \"Attack\" feature). A boxplot is a great way to visualize this:"
   ]
  },
  {
   "cell_type": "code",
   "execution_count": 5,
   "metadata": {},
   "outputs": [
    {
     "data": {
      "text/plain": [
       "<Axes: xlabel='Attack'>"
      ]
     },
     "execution_count": 5,
     "metadata": {},
     "output_type": "execute_result"
    },
    {
     "data": {
      "image/png": "[encoded data removed]",
      "text/plain": [
       "<Figure size 640x480 with 1 Axes>"
      ]
     },
     "metadata": {},
     "output_type": "display_data"
    }
   ],
   "source": [
    "sns.boxplot(data=df, x='Attack')"
   ]
  },
  {
   "cell_type": "code",
   "execution_count": 21,
   "metadata": {},
   "outputs": [
    {
     "data": {
      "text/plain": [
       "<Axes: xlabel='Attack'>"
      ]
     },
     "execution_count": 21,
     "metadata": {},
     "output_type": "execute_result"
    },
    {
     "data": {
      "image/png": "[encoded data removed]",
      "text/plain": [
       "<Figure size 640x480 with 1 Axes>"
      ]
     },
     "metadata": {},
     "output_type": "display_data"
    }
   ],
   "source": [
    "#  Pokemons exist with an Attack value greater than 150\n",
    "df_attack = df[df['Attack'] > 150]\n",
    "sns.boxplot(data=df_attack, x='Attack')"
   ]
  },
  {
   "cell_type": "markdown",
   "metadata": {},
   "source": [
    "##### 2. Select all pokemons with a Speed of `10` or less"
   ]
  },
  {
   "cell_type": "code",
   "execution_count": 23,
   "metadata": {},
   "outputs": [],
   "source": [
    "slow_pokemons_df = df[df['Speed'] <= 10]"
   ]
  },
  {
   "cell_type": "markdown",
   "metadata": {},
   "source": [
    "##### 3. How many Pokemons have a `Sp. Def` value of 25 or less?"
   ]
  },
  {
   "cell_type": "code",
   "execution_count": 25,
   "metadata": {},
   "outputs": [
    {
     "name": "stdout",
     "output_type": "stream",
     "text": [
      "210\n"
     ]
    }
   ],
   "source": [
    "count = (df['Sp. Def'] <= 50).sum()\n",
    "print(count)"
   ]
  },
  {
   "cell_type": "markdown",
   "metadata": {},
   "source": [
    "##### 4. Select all the Legendary pokemons"
   ]
  },
  {
   "cell_type": "code",
   "execution_count": 27,
   "metadata": {},
   "outputs": [],
   "source": [
    "# Try your code here\n",
    "legendary_df = df[df['Legendary'] == True]\n"
   ]
  },
  {
   "cell_type": "markdown",
   "metadata": {},
   "source": [
    "##### 5. Find the outlier"
   ]
  },
  {
   "cell_type": "markdown",
   "metadata": {},
   "source": [
    "Find the pokemon that is clearly an outlier in terms of Attack / Defense:"
   ]
  },
  {
   "cell_type": "code",
   "execution_count": 31,
   "metadata": {},
   "outputs": [
    {
     "name": "stdout",
     "output_type": "stream",
     "text": [
      "       #                     Name   Type 1    Type 2  Total   HP  Attack  \\\n",
      "163  150      MewtwoMega Mewtwo X  Psychic  Fighting    780  106     190   \n",
      "232  214  HeracrossMega Heracross      Bug  Fighting    600   80     185   \n",
      "424  383    GroudonPrimal Groudon   Ground      Fire    770  100     180   \n",
      "426  384    RayquazaMega Rayquaza   Dragon    Flying    780  105     180   \n",
      "429  386       DeoxysAttack Forme  Psychic       NaN    600   50     180   \n",
      "494  445    GarchompMega Garchomp   Dragon    Ground    700  108     170   \n",
      "711  646       KyuremBlack Kyurem   Dragon       Ice    700  125     170   \n",
      "\n",
      "     Defense  Sp. Atk  Sp. Def  Speed  Generation  Legendary  \n",
      "163      100      154      100    130           1       True  \n",
      "232      115       40      105     75           2      False  \n",
      "424      160      150       90     90           3       True  \n",
      "426      100      180      100    115           3       True  \n",
      "429       20      180       20    150           3       True  \n",
      "494      115      120       95     92           4      False  \n",
      "711      100      120       90     95           5       True  \n"
     ]
    }
   ],
   "source": [
    "def find_outliers(df, column):\n",
    "    Q1 = df[column].quantile(0.25)  # First quartile (25%)\n",
    "    Q3 = df[column].quantile(0.75)  # Third quartile (75%)\n",
    "    IQR = Q3 - Q1  # Interquartile range\n",
    "    lower_bound = Q1 - 1.5 * IQR\n",
    "    upper_bound = Q3 + 1.5 * IQR\n",
    "\n",
    "    outliers = df[(df[column] < lower_bound) | (df[column] > upper_bound)]\n",
    "    return outliers\n"
   ]
  },
  {
   "cell_type": "code",
   "execution_count": 33,
   "metadata": {},
   "outputs": [
    {
     "name": "stdout",
     "output_type": "stream",
     "text": [
      "       #                     Name   Type 1    Type 2  Total   HP  Attack  \\\n",
      "163  150      MewtwoMega Mewtwo X  Psychic  Fighting    780  106     190   \n",
      "232  214  HeracrossMega Heracross      Bug  Fighting    600   80     185   \n",
      "424  383    GroudonPrimal Groudon   Ground      Fire    770  100     180   \n",
      "426  384    RayquazaMega Rayquaza   Dragon    Flying    780  105     180   \n",
      "429  386       DeoxysAttack Forme  Psychic       NaN    600   50     180   \n",
      "494  445    GarchompMega Garchomp   Dragon    Ground    700  108     170   \n",
      "711  646       KyuremBlack Kyurem   Dragon       Ice    700  125     170   \n",
      "\n",
      "     Defense  Sp. Atk  Sp. Def  Speed  Generation  Legendary  \n",
      "163      100      154      100    130           1       True  \n",
      "232      115       40      105     75           2      False  \n",
      "424      160      150       90     90           3       True  \n",
      "426      100      180      100    115           3       True  \n",
      "429       20      180       20    150           3       True  \n",
      "494      115      120       95     92           4      False  \n",
      "711      100      120       90     95           5       True  \n"
     ]
    }
   ],
   "source": [
    "#  Find outliers in attack\n",
    "outliers_attack = find_outliers(df, 'Attack')\n",
    "print(outliers_attack)"
   ]
  },
  {
   "cell_type": "code",
   "execution_count": 37,
   "metadata": {},
   "outputs": [
    {
     "name": "stdout",
     "output_type": "stream",
     "text": [
      "       #                   Name   Type 1   Type 2  Total   HP  Attack  \\\n",
      "87    80    SlowbroMega Slowbro    Water  Psychic    590   95      75   \n",
      "98    91               Cloyster    Water      Ice    525   50      95   \n",
      "103   95                   Onix     Rock   Ground    385   35      45   \n",
      "223  208                Steelix    Steel   Ground    510   75      85   \n",
      "224  208    SteelixMega Steelix    Steel   Ground    610   75     125   \n",
      "230  213                Shuckle      Bug     Rock    505   20      10   \n",
      "332  306                 Aggron    Steel     Rock    530   70     110   \n",
      "333  306      AggronMega Aggron    Steel      NaN    630   70     140   \n",
      "414  377               Regirock     Rock      NaN    580   80     100   \n",
      "424  383  GroudonPrimal Groudon   Ground     Fire    770  100     180   \n",
      "430  386    DeoxysDefense Forme  Psychic      NaN    600   50      70   \n",
      "456  411              Bastiodon     Rock    Steel    495   60      52   \n",
      "789  713                Avalugg      Ice      NaN    514   95     117   \n",
      "\n",
      "     Defense  Sp. Atk  Sp. Def  Speed  Generation  Legendary  \n",
      "87       180      130       80     30           1      False  \n",
      "98       180       85       45     70           1      False  \n",
      "103      160       30       45     70           1      False  \n",
      "223      200       55       65     30           2      False  \n",
      "224      230       55       95     30           2      False  \n",
      "230      230       10      230      5           2      False  \n",
      "332      180       60       60     50           3      False  \n",
      "333      230       60       80     50           3      False  \n",
      "414      200       50      100     50           3       True  \n",
      "424      160      150       90     90           3       True  \n",
      "430      160       70      160     90           3       True  \n",
      "456      168       47      138     30           4      False  \n",
      "789      184       44       46     28           6      False  \n"
     ]
    }
   ],
   "source": [
    "#  Find outliers in Defense\n",
    "outliers_defense = find_outliers(df, 'Defense')\n",
    "print(outliers_defense)"
   ]
  },
  {
   "cell_type": "code",
   "execution_count": null,
   "metadata": {},
   "outputs": [],
   "source": []
  },
  {
   "cell_type": "markdown",
   "metadata": {},
   "source": [
    "![Who's this guy?](output1.png)"
   ]
  },
  {
   "cell_type": "code",
   "execution_count": null,
   "metadata": {},
   "outputs": [],
   "source": [
    "# You say his name is Shuckle!! are you sure about that ? why don't you prove it using code..."
   ]
  },
  {
   "cell_type": "markdown",
   "metadata": {},
   "source": [
    "**before you go ahead can you explain to me what is an outiler ??**\n",
    "\n",
    "Your Explanation: an outlier is an extreme value , may be too high or too low , it affects the visualizayion, mean andstandard deviation but doesn't affect median and mode.\n"
   ]
  },
  {
   "cell_type": "markdown",
   "metadata": {},
   "source": [
    "##### 6. How many Fire-Flying Pokemons are there?\n",
    "##### Type 1 fire and Type 2 Flying ???"
   ]
  },
  {
   "cell_type": "code",
   "execution_count": 43,
   "metadata": {},
   "outputs": [
    {
     "name": "stdout",
     "output_type": "stream",
     "text": [
      "Number of Fire-type Pokemon: 52\n"
     ]
    }
   ],
   "source": [
    "#number of type1 one fire\n",
    "fire_pokemon_count = (df['Type 1'] == 'Fire').sum()\n",
    "print(f\"Number of Fire-type Pokemon: {fire_pokemon_count}\")\n"
   ]
  },
  {
   "cell_type": "code",
   "execution_count": 47,
   "metadata": {},
   "outputs": [
    {
     "name": "stdout",
     "output_type": "stream",
     "text": [
      "Number of Flying-type Pokemon: 97\n"
     ]
    }
   ],
   "source": [
    "#number of type 2 flying\n",
    "flying_pokemon_count = (df['Type 2'] == 'Flying').sum()\n",
    "print(f\"Number of Flying-type Pokemon: {flying_pokemon_count}\")\n"
   ]
  },
  {
   "cell_type": "markdown",
   "metadata": {},
   "source": [
    "##### 7. How many 'Poison' pokemons are across both types?"
   ]
  },
  {
   "cell_type": "code",
   "execution_count": 53,
   "metadata": {},
   "outputs": [
    {
     "name": "stdout",
     "output_type": "stream",
     "text": [
      "Number of poison-type1 Pokemon: 28\n"
     ]
    }
   ],
   "source": [
    "poison_type1_count=(df['Type 1'] == 'Poison').sum()\n",
    "print(f\"Number of poison-type1 Pokemon: {poison_type1_count}\")"
   ]
  },
  {
   "cell_type": "code",
   "execution_count": 55,
   "metadata": {},
   "outputs": [
    {
     "name": "stdout",
     "output_type": "stream",
     "text": [
      "Number of poison-type2 Pokemon: 34\n"
     ]
    }
   ],
   "source": [
    "poison_type2_count=(df['Type 2'] == 'Poison').sum()\n",
    "print(f\"Number of poison-type2 Pokemon: {poison_type2_count}\")"
   ]
  },
  {
   "cell_type": "code",
   "execution_count": 59,
   "metadata": {},
   "outputs": [
    {
     "name": "stdout",
     "output_type": "stream",
     "text": [
      "Total number of Poison-type Pokemon: 62\n"
     ]
    }
   ],
   "source": [
    "total_poison_count= ((df['Type 1'] == 'Poison') | (df['Type 2'] == 'Poison')).sum()\n",
    "print(f\"Total number of Poison-type Pokemon: {total_poison_count}\")\n"
   ]
  },
  {
   "cell_type": "markdown",
   "metadata": {},
   "source": [
    "##### 8. Name the pokemon of `Type 1` *Ice* which has the strongest defense?\n",
    "##### I heard his name is Avalugg !!"
   ]
  },
  {
   "cell_type": "code",
   "execution_count": 67,
   "metadata": {},
   "outputs": [
    {
     "name": "stdout",
     "output_type": "stream",
     "text": [
      "Name       Avalugg\n",
      "Defense        184\n",
      "Name: 789, dtype: object\n"
     ]
    }
   ],
   "source": [
    "ice_pokemon_df = df[df['Type 1'] == 'Ice']  # Filter Ice-type Pokemon\n",
    "strongest_defense_pokemon = ice_pokemon_df.loc[ice_pokemon_df['Defense'].idxmax()]  # Find the highest Defense\n",
    "\n",
    "print(strongest_defense_pokemon[['Name', 'Defense']])\n"
   ]
  },
  {
   "cell_type": "markdown",
   "metadata": {},
   "source": [
    "##### 9. What's the most common `Type 1` of Legendary Pokemons?"
   ]
  },
  {
   "cell_type": "code",
   "execution_count": 71,
   "metadata": {},
   "outputs": [
    {
     "name": "stdout",
     "output_type": "stream",
     "text": [
      "Most common Type 1 among Legendary Pokemon: Psychic\n"
     ]
    }
   ],
   "source": [
    "most_common_legendary_type = df[df['Legendary'] == True]['Type 1'].value_counts().idxmax() #filter only legendary and type 1, idxmax finds most frequent\n",
    "print(f\"Most common Type 1 among Legendary Pokemon: {most_common_legendary_type}\")\n"
   ]
  },
  {
   "cell_type": "code",
   "execution_count": null,
   "metadata": {},
   "outputs": [],
   "source": []
  }
 ],
 "metadata": {
  "kernelspec": {
   "display_name": "Python [conda env:base] *",
   "language": "python",
   "name": "conda-base-py"
  },
  "language_info": {
   "codemirror_mode": {
    "name": "ipython",
    "version": 3
   },
   "file_extension": ".py",
   "mimetype": "text/x-python",
   "name": "python",
   "nbconvert_exporter": "python",
   "pygments_lexer": "ipython3",
   "version": "3.12.7"
  }
 },
 "nbformat": 4,
 "nbformat_minor": 4
}
