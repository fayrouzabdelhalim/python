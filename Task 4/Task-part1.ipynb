{
 "cells": [
  {
   "cell_type": "markdown",
   "metadata": {},
   "source": [
    "![image.jpeg](PlayStore.jpeg)"
   ]
  },
  {
   "cell_type": "code",
   "execution_count": 180,
   "metadata": {},
   "outputs": [
    {
     "data": {
      "text/html": [
       "<div>\n",
       "<style scoped>\n",
       "    .dataframe tbody tr th:only-of-type {\n",
       "        vertical-align: middle;\n",
       "    }\n",
       "\n",
       "    .dataframe tbody tr th {\n",
       "        vertical-align: top;\n",
       "    }\n",
       "\n",
       "    .dataframe thead th {\n",
       "        text-align: right;\n",
       "    }\n",
       "</style>\n",
       "<table border=\"1\" class=\"dataframe\">\n",
       "  <thead>\n",
       "    <tr style=\"text-align: right;\">\n",
       "      <th></th>\n",
       "      <th>App</th>\n",
       "      <th>Category</th>\n",
       "      <th>Rating</th>\n",
       "      <th>Reviews</th>\n",
       "      <th>Size</th>\n",
       "      <th>Installs</th>\n",
       "      <th>Type</th>\n",
       "      <th>Price</th>\n",
       "      <th>Content Rating</th>\n",
       "      <th>Genres</th>\n",
       "      <th>Last Updated</th>\n",
       "      <th>Current Ver</th>\n",
       "      <th>Android Ver</th>\n",
       "    </tr>\n",
       "  </thead>\n",
       "  <tbody>\n",
       "    <tr>\n",
       "      <th>0</th>\n",
       "      <td>Photo Editor &amp; Candy Camera &amp; Grid &amp; ScrapBook</td>\n",
       "      <td>ART_AND_DESIGN</td>\n",
       "      <td>4.1</td>\n",
       "      <td>159</td>\n",
       "      <td>19M</td>\n",
       "      <td>10,000+</td>\n",
       "      <td>Free</td>\n",
       "      <td>0</td>\n",
       "      <td>Everyone</td>\n",
       "      <td>Art &amp; Design</td>\n",
       "      <td>January 7, 2018</td>\n",
       "      <td>1.0.0</td>\n",
       "      <td>4.0.3 and up</td>\n",
       "    </tr>\n",
       "    <tr>\n",
       "      <th>1</th>\n",
       "      <td>Coloring book moana</td>\n",
       "      <td>ART_AND_DESIGN</td>\n",
       "      <td>3.9</td>\n",
       "      <td>967</td>\n",
       "      <td>14M</td>\n",
       "      <td>500,000+</td>\n",
       "      <td>Free</td>\n",
       "      <td>0</td>\n",
       "      <td>Everyone</td>\n",
       "      <td>Art &amp; Design;Pretend Play</td>\n",
       "      <td>January 15, 2018</td>\n",
       "      <td>2.0.0</td>\n",
       "      <td>4.0.3 and up</td>\n",
       "    </tr>\n",
       "    <tr>\n",
       "      <th>2</th>\n",
       "      <td>U Launcher Lite – FREE Live Cool Themes, Hide ...</td>\n",
       "      <td>ART_AND_DESIGN</td>\n",
       "      <td>4.7</td>\n",
       "      <td>87510</td>\n",
       "      <td>8.7M</td>\n",
       "      <td>5,000,000+</td>\n",
       "      <td>Free</td>\n",
       "      <td>0</td>\n",
       "      <td>Everyone</td>\n",
       "      <td>Art &amp; Design</td>\n",
       "      <td>August 1, 2018</td>\n",
       "      <td>1.2.4</td>\n",
       "      <td>4.0.3 and up</td>\n",
       "    </tr>\n",
       "    <tr>\n",
       "      <th>3</th>\n",
       "      <td>Sketch - Draw &amp; Paint</td>\n",
       "      <td>ART_AND_DESIGN</td>\n",
       "      <td>4.5</td>\n",
       "      <td>215644</td>\n",
       "      <td>25M</td>\n",
       "      <td>50,000,000+</td>\n",
       "      <td>Free</td>\n",
       "      <td>0</td>\n",
       "      <td>Teen</td>\n",
       "      <td>Art &amp; Design</td>\n",
       "      <td>June 8, 2018</td>\n",
       "      <td>Varies with device</td>\n",
       "      <td>4.2 and up</td>\n",
       "    </tr>\n",
       "    <tr>\n",
       "      <th>4</th>\n",
       "      <td>Pixel Draw - Number Art Coloring Book</td>\n",
       "      <td>ART_AND_DESIGN</td>\n",
       "      <td>4.3</td>\n",
       "      <td>967</td>\n",
       "      <td>2.8M</td>\n",
       "      <td>100,000+</td>\n",
       "      <td>Free</td>\n",
       "      <td>0</td>\n",
       "      <td>Everyone</td>\n",
       "      <td>Art &amp; Design;Creativity</td>\n",
       "      <td>June 20, 2018</td>\n",
       "      <td>1.1</td>\n",
       "      <td>4.4 and up</td>\n",
       "    </tr>\n",
       "  </tbody>\n",
       "</table>\n",
       "</div>"
      ],
      "text/plain": [
       "                                                 App        Category  Rating  \\\n",
       "0     Photo Editor & Candy Camera & Grid & ScrapBook  ART_AND_DESIGN     4.1   \n",
       "1                                Coloring book moana  ART_AND_DESIGN     3.9   \n",
       "2  U Launcher Lite – FREE Live Cool Themes, Hide ...  ART_AND_DESIGN     4.7   \n",
       "3                              Sketch - Draw & Paint  ART_AND_DESIGN     4.5   \n",
       "4              Pixel Draw - Number Art Coloring Book  ART_AND_DESIGN     4.3   \n",
       "\n",
       "  Reviews  Size     Installs  Type Price Content Rating  \\\n",
       "0     159   19M      10,000+  Free     0       Everyone   \n",
       "1     967   14M     500,000+  Free     0       Everyone   \n",
       "2   87510  8.7M   5,000,000+  Free     0       Everyone   \n",
       "3  215644   25M  50,000,000+  Free     0           Teen   \n",
       "4     967  2.8M     100,000+  Free     0       Everyone   \n",
       "\n",
       "                      Genres      Last Updated         Current Ver  \\\n",
       "0               Art & Design   January 7, 2018               1.0.0   \n",
       "1  Art & Design;Pretend Play  January 15, 2018               2.0.0   \n",
       "2               Art & Design    August 1, 2018               1.2.4   \n",
       "3               Art & Design      June 8, 2018  Varies with device   \n",
       "4    Art & Design;Creativity     June 20, 2018                 1.1   \n",
       "\n",
       "    Android Ver  \n",
       "0  4.0.3 and up  \n",
       "1  4.0.3 and up  \n",
       "2  4.0.3 and up  \n",
       "3    4.2 and up  \n",
       "4    4.4 and up  "
      ]
     },
     "execution_count": 180,
     "metadata": {},
     "output_type": "execute_result"
    }
   ],
   "source": [
    "import pandas as pd\n",
    "import numpy as np\n",
    "import matplotlib.pyplot as plt\n",
    "import seaborn as sns\n",
    "df = pd.read_csv(\"googleplaystore.csv\")\n",
    "df.head()"
   ]
  },
  {
   "cell_type": "markdown",
   "metadata": {},
   "source": [
    "# **Data Cleaning and Analysis Activities**"
   ]
  },
  {
   "cell_type": "markdown",
   "metadata": {},
   "source": [
    "**`Note:` it's better to make a copy from the dataframe and test on it before making any changes in the orignal one**"
   ]
  },
  {
   "cell_type": "markdown",
   "metadata": {},
   "source": [
    "### 1.Which of the following column(s) has/have null values?\n",
    "\n",
    "Select the columns that you have identified having null/missing values."
   ]
  },
  {
   "cell_type": "code",
   "execution_count": 89,
   "metadata": {},
   "outputs": [
    {
     "name": "stdout",
     "output_type": "stream",
     "text": [
      "App                  0\n",
      "Category             0\n",
      "Rating            1474\n",
      "Reviews              0\n",
      "Size                 0\n",
      "Installs             0\n",
      "Type                 1\n",
      "Price                0\n",
      "Content Rating       1\n",
      "Genres               0\n",
      "Last Updated         0\n",
      "Current Ver          8\n",
      "Android Ver          3\n",
      "dtype: int64\n"
     ]
    }
   ],
   "source": [
    "null_counts = df.isnull().sum() #check for null values in all columns\n",
    "print (null_counts)\n"
   ]
  },
  {
   "cell_type": "markdown",
   "metadata": {},
   "source": [
    "### 2. Clean the Rating Column and Other Columns Containing Null Values\n",
    "\n",
    "**Steps:**\n",
    "\n",
    "0. Try plotting a histogram and a boxplot for this column to understand the issue\n",
    "1. Remove invalid values from the Rating column (set them as NaN).\n",
    "2. Fill null values in the Rating column using the mean().\n",
    "3. Clean any other non-numerical columns by dropping the rows containing null values.\n",
    "4. Perform the modifications \"in place\", modifying `df`. If you make a mistake, re-load the data.\n",
    "\n",
    "**Details:**\n",
    "- Replace all ratings not in the range of 0 to 5 with NaN.\n",
    "- Drop rows with null values in other columns."
   ]
  },
  {
   "cell_type": "code",
   "execution_count": 91,
   "metadata": {},
   "outputs": [
    {
     "data": {
      "text/plain": [
       "Text(0.5, 1.0, 'Histogram')"
      ]
     },
     "execution_count": 91,
     "metadata": {},
     "output_type": "execute_result"
    },
    {
     "data": {
      "image/png": "[encoded data removed]",
      "text/plain": [
       "<Figure size 1200x500 with 1 Axes>"
      ]
     },
     "metadata": {},
     "output_type": "display_data"
    }
   ],
   "source": [
    "#histogram\n",
    "valid_data = df[\"Rating\"].dropna() #removing null values from ration column\n",
    "plt.figure(figsize=(12, 5))\n",
    "plt.subplot(1, 2, 1)\n",
    "plt.hist(data_with_null, bins=30, edgecolor='black', alpha=0.7)\n",
    "plt.xlabel(\"Rating\")\n",
    "plt.ylabel(\"Frequency\")\n",
    "plt.title(\"Histogram\")\n"
   ]
  },
  {
   "cell_type": "code",
   "execution_count": 178,
   "metadata": {},
   "outputs": [
    {
     "data": {
      "image/png": "[encoded data removed]",
      "text/plain": [
       "<Figure size 640x480 with 1 Axes>"
      ]
     },
     "metadata": {},
     "output_type": "display_data"
    }
   ],
   "source": [
    "# Boxplot\n",
    "plt.subplot(1, 2, 2)\n",
    "sns.boxplot(x=df[\"Rating\"].dropna())\n",
    "plt.title(\"Boxplot of Rating\")\n",
    "\n",
    "plt.tight_layout()\n",
    "plt.show()\n",
    "\n",
    "#Replace invalid ratings (not in 0-5 range) with NaN\n",
    "df.loc[(df[\"Rating\"] < 0) | (df[\"Rating\"] > 5), \"Rating\"] = pd.NA\n",
    "\n",
    "# Step 3: Fill NaN values in the Rating column with the mean\n",
    "df[\"Rating\"] = df[\"Rating\"].astype(float)  # Ensure it's numeric\n",
    "df.fillna({\"Rating\": df[\"Rating\"].mean()}, inplace=True)\n",
    "\n",
    "# Drop rows with null values in other columns\n",
    "df.dropna(inplace=True)"
   ]
  },
  {
   "cell_type": "markdown",
   "metadata": {},
   "source": [
    "### 3. Clean the Reviews Column and Make It Numeric\n",
    "\n",
    "You'll notice that some columns from this dataframe which should be numeric, were parsed as object (string). That's because sometimes the numbers are expressed with M, or k to indicate Mega or kilo.\n",
    "\n",
    "Clean the Reviews column by transforming the values to the correct numeric representation. \n",
    "\n",
    "For example, 5M should be 5000000."
   ]
  },
  {
   "cell_type": "code",
   "execution_count": 100,
   "metadata": {},
   "outputs": [
    {
     "name": "stdout",
     "output_type": "stream",
     "text": [
      "                                                     App             Category  \\\n",
      "0         Photo Editor & Candy Camera & Grid & ScrapBook       ART_AND_DESIGN   \n",
      "1                                    Coloring book moana       ART_AND_DESIGN   \n",
      "2      U Launcher Lite – FREE Live Cool Themes, Hide ...       ART_AND_DESIGN   \n",
      "3                                  Sketch - Draw & Paint       ART_AND_DESIGN   \n",
      "4                  Pixel Draw - Number Art Coloring Book       ART_AND_DESIGN   \n",
      "...                                                  ...                  ...   \n",
      "10836                                   Sya9a Maroc - FR               FAMILY   \n",
      "10837                   Fr. Mike Schmitz Audio Teachings               FAMILY   \n",
      "10838                             Parkinson Exercices FR              MEDICAL   \n",
      "10839                      The SCP Foundation DB fr nn5n  BOOKS_AND_REFERENCE   \n",
      "10840      iHoroscope - 2018 Daily Horoscope & Astrology            LIFESTYLE   \n",
      "\n",
      "         Rating  Reviews                Size     Installs  Type Price  \\\n",
      "0      4.100000      159                 19M      10,000+  Free     0   \n",
      "1      3.900000      967                 14M     500,000+  Free     0   \n",
      "2      4.700000    87510                8.7M   5,000,000+  Free     0   \n",
      "3      4.500000   215644                 25M  50,000,000+  Free     0   \n",
      "4      4.300000      967                2.8M     100,000+  Free     0   \n",
      "...         ...      ...                 ...          ...   ...   ...   \n",
      "10836  4.500000       38                 53M       5,000+  Free     0   \n",
      "10837  5.000000        4                3.6M         100+  Free     0   \n",
      "10838  4.191757        3                9.5M       1,000+  Free     0   \n",
      "10839  4.500000      114  Varies with device       1,000+  Free     0   \n",
      "10840  4.500000   398307                 19M  10,000,000+  Free     0   \n",
      "\n",
      "      Content Rating                     Genres      Last Updated  \\\n",
      "0           Everyone               Art & Design   January 7, 2018   \n",
      "1           Everyone  Art & Design;Pretend Play  January 15, 2018   \n",
      "2           Everyone               Art & Design    August 1, 2018   \n",
      "3               Teen               Art & Design      June 8, 2018   \n",
      "4           Everyone    Art & Design;Creativity     June 20, 2018   \n",
      "...              ...                        ...               ...   \n",
      "10836       Everyone                  Education     July 25, 2017   \n",
      "10837       Everyone                  Education      July 6, 2018   \n",
      "10838       Everyone                    Medical  January 20, 2017   \n",
      "10839     Mature 17+          Books & Reference  January 19, 2015   \n",
      "10840       Everyone                  Lifestyle     July 25, 2018   \n",
      "\n",
      "              Current Ver         Android Ver  \n",
      "0                   1.0.0        4.0.3 and up  \n",
      "1                   2.0.0        4.0.3 and up  \n",
      "2                   1.2.4        4.0.3 and up  \n",
      "3      Varies with device          4.2 and up  \n",
      "4                     1.1          4.4 and up  \n",
      "...                   ...                 ...  \n",
      "10836                1.48          4.1 and up  \n",
      "10837                 1.0          4.1 and up  \n",
      "10838                 1.0          2.2 and up  \n",
      "10839  Varies with device  Varies with device  \n",
      "10840  Varies with device  Varies with device  \n",
      "\n",
      "[10829 rows x 13 columns]\n"
     ]
    }
   ],
   "source": [
    "# Function to convert values\n",
    "def convert_reviews(value):\n",
    "    if isinstance(value, str):  # Ensure value is a string before processing\n",
    "        if 'M' in value:\n",
    "            return float(value.replace('M', '')) * 1_000_000\n",
    "        elif 'k' in value:\n",
    "            return float(value.replace('k', '')) * 1_000\n",
    "    return float(value)  # Convert plain numbers\n",
    "\n",
    "# Apply transformation\n",
    "df[\"Reviews\"] = df[\"Reviews\"].apply(convert_reviews).astype(int)  # Convert to integer\n",
    "\n",
    "# Display cleaned DataFrame\n",
    "print(df)\n"
   ]
  },
  {
   "cell_type": "markdown",
   "metadata": {},
   "source": [
    "### 4. Count the Number of Duplicated Apps\n",
    "\n",
    "Count the number of duplicated rows. That is, if the app Twitter appears 2 times, that counts as 2."
   ]
  },
  {
   "cell_type": "code",
   "execution_count": 102,
   "metadata": {},
   "outputs": [
    {
     "name": "stdout",
     "output_type": "stream",
     "text": [
      "Index(['App', 'Category', 'Rating', 'Reviews', 'Size', 'Installs', 'Type',\n",
      "       'Price', 'Content Rating', 'Genres', 'Last Updated', 'Current Ver',\n",
      "       'Android Ver'],\n",
      "      dtype='object')\n"
     ]
    }
   ],
   "source": []
  },
  {
   "cell_type": "code",
   "execution_count": 104,
   "metadata": {},
   "outputs": [
    {
     "name": "stdout",
     "output_type": "stream",
     "text": [
      "Number of duplicated app entries: 1979\n"
     ]
    }
   ],
   "source": [
    "# Count the number of duplicated rows based on the 'App' column\n",
    "duplicate_count = df[df.duplicated(subset=[\"App\"], keep=False)].shape[0]\n",
    "\n",
    "# Display the count\n",
    "print(f\"Number of duplicated app entries: {duplicate_count}\")\n"
   ]
  },
  {
   "cell_type": "markdown",
   "metadata": {},
   "source": [
    "### 5. Drop Duplicated Apps Keeping Only the Ones with the Greatest Number of Reviews\n",
    "\n",
    "Now that the Reviews column is numeric, we can use it to clean duplicated apps. Drop duplicated apps, keeping just one copy of each, the one with the greatest number of reviews.\n",
    "\n",
    "Hint: you'll need to sort the dataframe by App and Reviews, and that will change the order of your df."
   ]
  },
  {
   "cell_type": "code",
   "execution_count": 108,
   "metadata": {},
   "outputs": [
    {
     "name": "stdout",
     "output_type": "stream",
     "text": [
      "                                                   App       Category  \\\n",
      "0                 \"i DT\" Fútbol. Todos Somos Técnicos.         SPORTS   \n",
      "1                        +Download 4 Instagram Twitter         SOCIAL   \n",
      "2                           - Free Comics - Comic Apps         COMICS   \n",
      "3                                                   .R          TOOLS   \n",
      "4                                               /u/app  COMMUNICATION   \n",
      "...                                                ...            ...   \n",
      "9643                           뽕티비 - 개인방송, 인터넷방송, BJ방송  VIDEO_PLAYERS   \n",
      "9644                                        💎 I'm rich      LIFESTYLE   \n",
      "9645     💘 WhatsLov: Smileys of love, stickers and GIF         SOCIAL   \n",
      "9646  📏 Smart Ruler ↔️ cm/inch measuring for homework!          TOOLS   \n",
      "9647  🔥 Football Wallpapers 4K | Full HD Backgrounds 😍  ENTERTAINMENT   \n",
      "\n",
      "        Rating  Reviews  Size    Installs  Type    Price Content Rating  \\\n",
      "0     4.191757       27  3.6M        500+  Free        0       Everyone   \n",
      "1     4.500000    40467   22M  1,000,000+  Free        0       Everyone   \n",
      "2     3.500000      115  9.1M     10,000+  Free        0     Mature 17+   \n",
      "3     4.500000      259  203k     10,000+  Free        0       Everyone   \n",
      "4     4.700000      573   53M     10,000+  Free        0     Mature 17+   \n",
      "...        ...      ...   ...         ...   ...      ...            ...   \n",
      "9643  4.191757      414   59M    100,000+  Free        0     Mature 17+   \n",
      "9644  3.800000      718   26M     10,000+  Paid  $399.99       Everyone   \n",
      "9645  4.600000    22098   18M  1,000,000+  Free        0       Everyone   \n",
      "9646  4.000000       19  3.2M     10,000+  Free        0       Everyone   \n",
      "9647  4.700000    11661  4.0M  1,000,000+  Free        0       Everyone   \n",
      "\n",
      "                       Genres        Last Updated Current Ver   Android Ver  \n",
      "0                      Sports     October 7, 2017        0.22    4.1 and up  \n",
      "1                      Social      August 2, 2018        5.03    4.1 and up  \n",
      "2                      Comics       July 13, 2018      5.0.12    5.0 and up  \n",
      "3                       Tools  September 16, 2014      1.1.06    1.5 and up  \n",
      "4               Communication        July 3, 2018       4.2.4    4.1 and up  \n",
      "...                       ...                 ...         ...           ...  \n",
      "9643  Video Players & Editors       July 18, 2018       4.0.7  4.0.3 and up  \n",
      "9644                Lifestyle      March 11, 2018       1.0.0    4.4 and up  \n",
      "9645                   Social       July 24, 2018       4.2.4  4.0.3 and up  \n",
      "9646                    Tools    October 21, 2017         1.0    4.2 and up  \n",
      "9647            Entertainment       July 14, 2018     1.1.3.2  4.0.3 and up  \n",
      "\n",
      "[9648 rows x 13 columns]\n"
     ]
    }
   ],
   "source": [
    "#first we sort df with reviews descendingly and apps assendingly\n",
    "df.sort_values(by=[\"App\", \"Reviews\"], ascending=[True, False], inplace=True)\n",
    "df.drop_duplicates(subset=[\"App\"], keep=\"first\", inplace=True) #drop second duplicate\n",
    "df.reset_index(drop=True, inplace=True) #Reset index for a cleaner DataFrame\n",
    "print(df)"
   ]
  },
  {
   "cell_type": "markdown",
   "metadata": {},
   "source": [
    "### 6. Format the Category Column\n",
    "\n",
    "Categories are all uppercase and words are separated using underscores. Instead, we want them with capitalized in the first character and the underscores transformed as whitespaces.\n",
    "\n",
    "Example, the category AUTO_AND_VEHICLES should be transformed to: Auto and vehicles. Also, if you find any other wrong value transform it into an Unknown category."
   ]
  },
  {
   "cell_type": "code",
   "execution_count": 112,
   "metadata": {},
   "outputs": [
    {
     "name": "stdout",
     "output_type": "stream",
     "text": [
      "           Category\n",
      "0            Sports\n",
      "1            Social\n",
      "2            Comics\n",
      "3             Tools\n",
      "4     Communication\n",
      "...             ...\n",
      "9643  Video Players\n",
      "9644      Lifestyle\n",
      "9645         Social\n",
      "9646          Tools\n",
      "9647  Entertainment\n",
      "\n",
      "[9648 rows x 1 columns]\n"
     ]
    }
   ],
   "source": [
    "# Function to clean category names\n",
    "def clean_category(value):\n",
    "    if isinstance(value, str):  # Ensure it's a string before processing\n",
    "        formatted_value = value.replace(\"_\", \" \").title()  # Convert to title case and replace underscores\n",
    "        return formatted_value\n",
    "    return \"Unknown category\"  # Handle unexpected values\n",
    "\n",
    "# Apply transformation to the 'Category' column\n",
    "df[\"Category\"] = df[\"Category\"].apply(clean_category)\n",
    "\n",
    "# Display the cleaned DataFrame\n",
    "print(df[[\"Category\"]])  "
   ]
  },
  {
   "cell_type": "markdown",
   "metadata": {},
   "source": [
    "### 7. Clean and Convert the Installs Column to Numeric Type\n",
    "\n",
    "Clean and transform Installs as a numeric type. Some values in Installs will have a + modifier. Just remove the string and honor the original number (for example +2,500 or 2,500+ should be transformed to the number 2500)."
   ]
  },
  {
   "cell_type": "code",
   "execution_count": 116,
   "metadata": {},
   "outputs": [
    {
     "name": "stdout",
     "output_type": "stream",
     "text": [
      "   Installs\n",
      "0       500\n",
      "1   1000000\n",
      "2     10000\n",
      "3     10000\n",
      "4     10000\n"
     ]
    }
   ],
   "source": [
    "# Function to clean and convert Installs to numeric\n",
    "def clean_installs(value):\n",
    "    if isinstance(value, str):  # Ensure the value is a string before processing\n",
    "        value = value.replace(\"+\", \"\").replace(\",\", \"\")  # Remove \"+\" and commas\n",
    "        return int(value)  # Convert to integer\n",
    "    return value  # If it's already numeric, return as is\n",
    "\n",
    "# Apply the transformation\n",
    "df[\"Installs\"] = df[\"Installs\"].apply(clean_installs)\n",
    "\n",
    "# Display the cleaned DataFrame\n",
    "print(df[[\"Installs\"]].head()) \n"
   ]
  },
  {
   "cell_type": "markdown",
   "metadata": {},
   "source": [
    "### 8. Clean and Convert the Size Column to Numeric (Representing Bytes)\n",
    "\n",
    "The Size column is of type object. Some values contain either a M or a k that indicate Kilobytes (1024 bytes) or Megabytes (1024 kb). These values should be transformed to their corresponding value in bytes. For example, 898k will become 919552 (898 * 1024).\n",
    "\n",
    "Some other values are completely invalid (there's no way to infer the numeric type from them). For these, just replace the value for 0.\n",
    "\n",
    "Some other rules are related to + modifiers, apply the same rules as the previous task."
   ]
  },
  {
   "cell_type": "code",
   "execution_count": 124,
   "metadata": {},
   "outputs": [
    {
     "name": "stdout",
     "output_type": "stream",
     "text": [
      "                                                   App       Category  \\\n",
      "0                 \"i DT\" Fútbol. Todos Somos Técnicos.         Sports   \n",
      "1                        +Download 4 Instagram Twitter         Social   \n",
      "2                           - Free Comics - Comic Apps         Comics   \n",
      "3                                                   .R          Tools   \n",
      "4                                               /u/app  Communication   \n",
      "...                                                ...            ...   \n",
      "9643                           뽕티비 - 개인방송, 인터넷방송, BJ방송  Video Players   \n",
      "9644                                        💎 I'm rich      Lifestyle   \n",
      "9645     💘 WhatsLov: Smileys of love, stickers and GIF         Social   \n",
      "9646  📏 Smart Ruler ↔️ cm/inch measuring for homework!          Tools   \n",
      "9647  🔥 Football Wallpapers 4K | Full HD Backgrounds 😍  Entertainment   \n",
      "\n",
      "        Rating  Reviews        Size  Installs  Type    Price Content Rating  \\\n",
      "0     4.191757       27   3774873.0       500  Free        0       Everyone   \n",
      "1     4.500000    40467  23068672.0   1000000  Free        0       Everyone   \n",
      "2     3.500000      115   9542041.0     10000  Free        0     Mature 17+   \n",
      "3     4.500000      259    207872.0     10000  Free        0       Everyone   \n",
      "4     4.700000      573  55574528.0     10000  Free        0     Mature 17+   \n",
      "...        ...      ...         ...       ...   ...      ...            ...   \n",
      "9643  4.191757      414  61865984.0    100000  Free        0     Mature 17+   \n",
      "9644  3.800000      718  27262976.0     10000  Paid  $399.99       Everyone   \n",
      "9645  4.600000    22098  18874368.0   1000000  Free        0       Everyone   \n",
      "9646  4.000000       19   3355443.0     10000  Free        0       Everyone   \n",
      "9647  4.700000    11661   4194304.0   1000000  Free        0       Everyone   \n",
      "\n",
      "                       Genres        Last Updated Current Ver   Android Ver  \n",
      "0                      Sports     October 7, 2017        0.22    4.1 and up  \n",
      "1                      Social      August 2, 2018        5.03    4.1 and up  \n",
      "2                      Comics       July 13, 2018      5.0.12    5.0 and up  \n",
      "3                       Tools  September 16, 2014      1.1.06    1.5 and up  \n",
      "4               Communication        July 3, 2018       4.2.4    4.1 and up  \n",
      "...                       ...                 ...         ...           ...  \n",
      "9643  Video Players & Editors       July 18, 2018       4.0.7  4.0.3 and up  \n",
      "9644                Lifestyle      March 11, 2018       1.0.0    4.4 and up  \n",
      "9645                   Social       July 24, 2018       4.2.4  4.0.3 and up  \n",
      "9646                    Tools    October 21, 2017         1.0    4.2 and up  \n",
      "9647            Entertainment       July 14, 2018     1.1.3.2  4.0.3 and up  \n",
      "\n",
      "[9648 rows x 13 columns]\n"
     ]
    }
   ],
   "source": [
    "# Function to convert values\n",
    "def convert_Size(value):\n",
    "    if isinstance(value, str):  # Ensure value is a string before processing\n",
    "        if 'M' in value:\n",
    "            return float(value.replace('M', '')) * 1024 * 1024 #convert mega\n",
    "        elif 'k' in value:\n",
    "            return float(value.replace('k', '')) * 1024 #convert kilo\n",
    "        elif value.isnumeric():  # If it's already a number\n",
    "            return int(value)\n",
    "    return 0  # If invalid, return 0\n",
    "# Apply transformation to the 'Size' column\n",
    "df[\"Size\"] = df[\"Size\"].apply(convert_size)\n",
    "\n",
    "\n",
    "# Display cleaned DataFrame\n",
    "print(df)"
   ]
  },
  {
   "cell_type": "markdown",
   "metadata": {},
   "source": [
    "### 9. Clean and Convert the Price Column to Numeric\n",
    "\n",
    "Values of the Price column are strings representing price with special symbol '$'."
   ]
  },
  {
   "cell_type": "code",
   "execution_count": 182,
   "metadata": {},
   "outputs": [
    {
     "name": "stdout",
     "output_type": "stream",
     "text": [
      "['0' '$4.99' '$3.99' '$6.99' '$1.49' '$2.99' '$7.99' '$5.99' '$3.49'\n",
      " '$1.99' '$9.99' '$7.49' '$0.99' '$9.00' '$5.49' '$10.00' '$24.99'\n",
      " '$11.99' '$79.99' '$16.99' '$14.99' '$1.00' '$29.99' '$12.99' '$2.49'\n",
      " '$10.99' '$1.50' '$19.99' '$15.99' '$33.99' '$74.99' '$39.99' '$3.95'\n",
      " '$4.49' '$1.70' '$8.99' '$2.00' '$3.88' '$25.99' '$399.99' '$17.99'\n",
      " '$400.00' '$3.02' '$1.76' '$4.84' '$4.77' '$1.61' '$2.50' '$1.59' '$6.49'\n",
      " '$1.29' '$5.00' '$13.99' '$299.99' '$379.99' '$37.99' '$18.99' '$389.99'\n",
      " '$19.90' '$8.49' '$1.75' '$14.00' '$4.85' '$46.99' '$109.99' '$154.99'\n",
      " '$3.08' '$2.59' '$4.80' '$1.96' '$19.40' '$3.90' '$4.59' '$15.46' '$3.04'\n",
      " '$4.29' '$2.60' '$3.28' '$4.60' '$28.99' '$2.95' '$2.90' '$1.97'\n",
      " '$200.00' '$89.99' '$2.56' '$30.99' '$3.61' '$394.99' '$1.26' 'Everyone'\n",
      " '$1.20' '$1.04']\n"
     ]
    }
   ],
   "source": [
    "print(df[\"Price\"].unique())  # See what values exist before cleaning\n"
   ]
  },
  {
   "cell_type": "code",
   "execution_count": 186,
   "metadata": {},
   "outputs": [
    {
     "name": "stdout",
     "output_type": "stream",
     "text": [
      "[  0.     4.99   3.99   6.99   1.49   2.99   7.99   5.99   3.49   1.99\n",
      "   9.99   7.49   0.99   9.     5.49  10.    24.99  11.99  79.99  16.99\n",
      "  14.99   1.    29.99  12.99   2.49  10.99   1.5   19.99  15.99  33.99\n",
      "  74.99  39.99   3.95   4.49   1.7    8.99   2.     3.88  25.99 399.99\n",
      "  17.99 400.     3.02   1.76   4.84   4.77   1.61   2.5    1.59   6.49\n",
      "   1.29   5.    13.99 299.99 379.99  37.99  18.99 389.99  19.9    8.49\n",
      "   1.75  14.     4.85  46.99 109.99 154.99   3.08   2.59   4.8    1.96\n",
      "  19.4    3.9    4.59  15.46   3.04   4.29   2.6    3.28   4.6   28.99\n",
      "   2.95   2.9    1.97 200.    89.99   2.56  30.99   3.61 394.99   1.26\n",
      "   1.2    1.04]\n",
      "float64\n",
      "                                                     App             Category  \\\n",
      "0         Photo Editor & Candy Camera & Grid & ScrapBook       ART_AND_DESIGN   \n",
      "1                                    Coloring book moana       ART_AND_DESIGN   \n",
      "2      U Launcher Lite – FREE Live Cool Themes, Hide ...       ART_AND_DESIGN   \n",
      "3                                  Sketch - Draw & Paint       ART_AND_DESIGN   \n",
      "4                  Pixel Draw - Number Art Coloring Book       ART_AND_DESIGN   \n",
      "...                                                  ...                  ...   \n",
      "10836                                   Sya9a Maroc - FR               FAMILY   \n",
      "10837                   Fr. Mike Schmitz Audio Teachings               FAMILY   \n",
      "10838                             Parkinson Exercices FR              MEDICAL   \n",
      "10839                      The SCP Foundation DB fr nn5n  BOOKS_AND_REFERENCE   \n",
      "10840      iHoroscope - 2018 Daily Horoscope & Astrology            LIFESTYLE   \n",
      "\n",
      "       Rating Reviews                Size     Installs  Type  Price  \\\n",
      "0         4.1     159                 19M      10,000+  Free    0.0   \n",
      "1         3.9     967                 14M     500,000+  Free    0.0   \n",
      "2         4.7   87510                8.7M   5,000,000+  Free    0.0   \n",
      "3         4.5  215644                 25M  50,000,000+  Free    0.0   \n",
      "4         4.3     967                2.8M     100,000+  Free    0.0   \n",
      "...       ...     ...                 ...          ...   ...    ...   \n",
      "10836     4.5      38                 53M       5,000+  Free    0.0   \n",
      "10837     5.0       4                3.6M         100+  Free    0.0   \n",
      "10838     NaN       3                9.5M       1,000+  Free    0.0   \n",
      "10839     4.5     114  Varies with device       1,000+  Free    0.0   \n",
      "10840     4.5  398307                 19M  10,000,000+  Free    0.0   \n",
      "\n",
      "      Content Rating                     Genres      Last Updated  \\\n",
      "0           Everyone               Art & Design   January 7, 2018   \n",
      "1           Everyone  Art & Design;Pretend Play  January 15, 2018   \n",
      "2           Everyone               Art & Design    August 1, 2018   \n",
      "3               Teen               Art & Design      June 8, 2018   \n",
      "4           Everyone    Art & Design;Creativity     June 20, 2018   \n",
      "...              ...                        ...               ...   \n",
      "10836       Everyone                  Education     July 25, 2017   \n",
      "10837       Everyone                  Education      July 6, 2018   \n",
      "10838       Everyone                    Medical  January 20, 2017   \n",
      "10839     Mature 17+          Books & Reference  January 19, 2015   \n",
      "10840       Everyone                  Lifestyle     July 25, 2018   \n",
      "\n",
      "              Current Ver         Android Ver  \n",
      "0                   1.0.0        4.0.3 and up  \n",
      "1                   2.0.0        4.0.3 and up  \n",
      "2                   1.2.4        4.0.3 and up  \n",
      "3      Varies with device          4.2 and up  \n",
      "4                     1.1          4.4 and up  \n",
      "...                   ...                 ...  \n",
      "10836                1.48          4.1 and up  \n",
      "10837                 1.0          4.1 and up  \n",
      "10838                 1.0          2.2 and up  \n",
      "10839  Varies with device  Varies with device  \n",
      "10840  Varies with device  Varies with device  \n",
      "\n",
      "[10841 rows x 13 columns]\n"
     ]
    }
   ],
   "source": [
    "# Function to clean and convert Price to numeric\n",
    "def clean_price(value):\n",
    "    if pd.isna(value):  # Handle NaN values\n",
    "        return 0.0\n",
    "    \n",
    "    if isinstance(value, str):  # Ensure it's a string before processing\n",
    "        value = value.replace(\"$\", \"\").strip()  # Remove $ and extra spaces\n",
    "        \n",
    "        if value.lower() in [\"free\", \"\"]:  # Handle 'Free' and empty values\n",
    "            return 0.0\n",
    "        \n",
    "        try:\n",
    "            return float(value)  # Convert to float\n",
    "        except ValueError:\n",
    "            return 0.0  # Handle unexpected cases\n",
    "    \n",
    "    return 0.0  # Default to 0.0 for any invalid cases\n",
    "\n",
    "# Convert Price column to string (to avoid issues with mixed types)\n",
    "df[\"Price\"] = df[\"Price\"].astype(str)\n",
    "\n",
    "# Apply the function\n",
    "df[\"Price\"] = df[\"Price\"].apply(clean_price)\n",
    "\n",
    "# Verify the unique values after cleaning\n",
    "print(df[\"Price\"].unique())\n",
    "print(df[\"Price\"].dtype)  # Ensure it's float now\n",
    "\n",
    "print(df)\n"
   ]
  },
  {
   "cell_type": "markdown",
   "metadata": {},
   "source": [
    "### 10. Paid or Free?\n",
    "\n",
    "Now that you have cleaned the Price column, let's create another auxiliary Distribution column.\n",
    "\n",
    "This column should contain Free/Paid values depending on the app's price."
   ]
  },
  {
   "cell_type": "code",
   "execution_count": 190,
   "metadata": {},
   "outputs": [
    {
     "name": "stdout",
     "output_type": "stream",
     "text": [
      "       Price Distribution\n",
      "0        0.0         Free\n",
      "1        0.0         Free\n",
      "2        0.0         Free\n",
      "3        0.0         Free\n",
      "4        0.0         Free\n",
      "...      ...          ...\n",
      "10836    0.0         Free\n",
      "10837    0.0         Free\n",
      "10838    0.0         Free\n",
      "10839    0.0         Free\n",
      "10840    0.0         Free\n",
      "\n",
      "[10841 rows x 2 columns]\n"
     ]
    }
   ],
   "source": [
    "# Create the Distribution column based on the Price column\n",
    "df[\"Distribution\"] = df[\"Price\"].apply(lambda x: \"Free\" if x == 0.0 else \"Paid\")\n",
    "\n",
    "# Display \n",
    "print(df[[\"Price\", \"Distribution\"]])\n"
   ]
  },
  {
   "cell_type": "markdown",
   "metadata": {},
   "source": [
    "## Finally!!! \n",
    "- Now all is left is to save the new dataframe we made into a new csv file called `filteredplaystore.csv`"
   ]
  },
  {
   "cell_type": "code",
   "execution_count": 192,
   "metadata": {},
   "outputs": [
    {
     "name": "stdout",
     "output_type": "stream",
     "text": [
      "Data saved successfully as 'filteredplaystore.csv'.\n"
     ]
    }
   ],
   "source": [
    "# Save the cleaned dataframe to a CSV file\n",
    "df.to_csv(\"filteredplaystore.csv\", index=False)\n",
    "\n",
    "# Verify the file was saved successfully\n",
    "print(\"Data saved successfully as 'filteredplaystore.csv'.\")\n"
   ]
  },
  {
   "cell_type": "code",
   "execution_count": null,
   "metadata": {},
   "outputs": [],
   "source": []
  }
 ],
 "metadata": {
  "kernelspec": {
   "display_name": "Python [conda env:base] *",
   "language": "python",
   "name": "conda-base-py"
  },
  "language_info": {
   "codemirror_mode": {
    "name": "ipython",
    "version": 3
   },
   "file_extension": ".py",
   "mimetype": "text/x-python",
   "name": "python",
   "nbconvert_exporter": "python",
   "pygments_lexer": "ipython3",
   "version": "3.12.7"
  }
 },
 "nbformat": 4,
 "nbformat_minor": 4
}
